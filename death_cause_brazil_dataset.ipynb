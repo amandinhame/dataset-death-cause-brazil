{
 "cells": [
  {
   "cell_type": "markdown",
   "metadata": {},
   "source": [
    "# Registered deaths and causes in Brazil\n",
    "\n",
    "Builds the dataset of registered deaths by the civil registry offices in Brazil by state and day.\n",
    "This dataset only contains data from 2020 and the same period in 2019.\n",
    "\n",
    "Source: [https://transparencia.registrocivil.org.br/especial-covid](https://transparencia.registrocivil.org.br/especial-covid)"
   ]
  },
  {
   "cell_type": "code",
   "execution_count": null,
   "metadata": {},
   "outputs": [],
   "source": [
    "import datetime\n",
    "import requests\n",
    "import json\n",
    "\n",
    "import pandas as pd\n",
    "import numpy as np"
   ]
  },
  {
   "cell_type": "code",
   "execution_count": null,
   "metadata": {},
   "outputs": [],
   "source": [
    "pd.set_option('display.max_rows', None)"
   ]
  },
  {
   "cell_type": "code",
   "execution_count": null,
   "metadata": {},
   "outputs": [],
   "source": [
    "url = 'https://transparencia.registrocivil.org.br/api/covid-cardiaco?start_date={}&end_date={}&state={}&city_id=all&chart=chart2&gender={}&places[]=HOSPITAL&places[]=DOMICILIO&places[]=VIA_PUBLICA&places[]=OUTROS&cor_pele={}&chart=chartCardiac3&diffCity=false HTTP/1.1'"
   ]
  },
  {
   "cell_type": "code",
   "execution_count": null,
   "metadata": {},
   "outputs": [],
   "source": [
    "header = {\n",
    "    'Connection': 'keep-alive',\n",
    "    'Accept': 'application/json, text/plain, */*',\n",
    "    'recaptcha': 'xxxx',\n",
    "    'X-CSRF-TOKEN': 'xxxx',\n",
    "    'X-Requested-With': 'XMLHttpRequest',\n",
    "    'User-Agent': 'Mozilla/5.0 (Windows NT 10.0; Win64; x64) AppleWebKit/537.36 (KHTML, like Gecko) Chrome/85.0.4183.102 Safari/537.36',\n",
    "    'X-XSRF-TOKEN': 'xxxx',\n",
    "    'Sec-Fetch-Site': 'same-origin',\n",
    "    'Sec-Fetch-Mode': 'cors',\n",
    "    'Sec-Fetch-Dest': 'empty',\n",
    "    'Referer': 'https://transparencia.registrocivil.org.br/registros',\n",
    "    'Accept-Language': 'pt-BR,pt;q=0.9,en-US;q=0.8,en;q=0.7,es-ES;q=0.6,es;q=0.5',\n",
    "    'Cookie': 'xxxx'\n",
    "}"
   ]
  },
  {
   "cell_type": "code",
   "execution_count": null,
   "metadata": {},
   "outputs": [],
   "source": [
    "states = ['AC', 'AL', 'AM', 'AP', 'BA', 'CE', 'DF', 'ES', 'GO', 'MA', 'MG',\n",
    "           'MS', 'MT', 'PA', 'PB', 'PE', 'PI', 'PR', 'RJ', 'RN', 'RO', 'RR',\n",
    "           'RS', 'SC', 'SE', 'SP', 'TO']"
   ]
  },
  {
   "cell_type": "code",
   "execution_count": null,
   "metadata": {},
   "outputs": [],
   "source": [
    "genders = ['F', 'M']"
   ]
  },
  {
   "cell_type": "code",
   "execution_count": null,
   "metadata": {},
   "outputs": [],
   "source": [
    "skin_colors = ['Amarela', 'Branca', 'Ignorada', 'Indigena', 'Parda', 'Preta']"
   ]
  },
  {
   "cell_type": "code",
   "execution_count": null,
   "metadata": {},
   "outputs": [],
   "source": [
    "begin_date_str = '2020-01-01'\n",
    "end_date_str = '2020-12-31'"
   ]
  },
  {
   "cell_type": "code",
   "execution_count": null,
   "metadata": {},
   "outputs": [],
   "source": [
    "begin_date = datetime.datetime.strptime(begin_date_str, '%Y-%m-%d').date()\n",
    "end_date = datetime.datetime.strptime(end_date_str, '%Y-%m-%d').date()\n",
    "\n",
    "dates = pd.date_range(begin_date, end_date).tolist()"
   ]
  },
  {
   "cell_type": "code",
   "execution_count": null,
   "metadata": {
    "scrolled": false
   },
   "outputs": [],
   "source": [
    "df = pd.DataFrame(columns=['date', 'state', 'gender', 'age', 'color', 'cause', 'total'])\n",
    "\n",
    "for date in dates:\n",
    "    print(date)\n",
    "    for state in states:\n",
    "        for gender in genders:\n",
    "            for color in skin_colors:\n",
    "\n",
    "                date_request = date.strftime('%Y-%m-%d')\n",
    "                page = requests.get(url.format(date_request, date_request, state, gender, color), headers=header)\n",
    "                content = json.loads(page.content)['chart']\n",
    "\n",
    "                if len(content) > 0:\n",
    "                    for age in content.keys():\n",
    "                        for year in content[age].keys():\n",
    "\n",
    "                            if not (int(year) == 2019 and date.month == 2 and date.day == 29):\n",
    "                                date_year = datetime.date(int(year), date.month, date.day)\n",
    "\n",
    "                                cause = []\n",
    "                                total = []\n",
    "                                for key, val in content[age][year].items():\n",
    "                                    cause.append(key)\n",
    "                                    total.append(int(val))\n",
    "\n",
    "                                df = df.append(pd.DataFrame({'date': date_year, 'state': state, 'gender': gender, 'age': age, 'color': color, 'cause': cause, 'total': total}), ignore_index=True)"
   ]
  },
  {
   "cell_type": "code",
   "execution_count": null,
   "metadata": {},
   "outputs": [],
   "source": [
    "cause = {\n",
    "    'SRAG': 'Sars',\n",
    "    'INSUFICIENCIA_RESPIRATORIA': 'Respiratory Failure',\n",
    "    'INDETERMINADA': 'Undetermined',\n",
    "    'OUTRAS': 'Others',\n",
    "    'AVC': 'Stroke',\n",
    "    'CARDIOPATIA': 'Cardiopathy',\n",
    "    'CHOQUE_CARD': 'Cardiogenic Shock',\n",
    "    'INFARTO': 'Hearth Attack',\n",
    "    'PNEUMONIA': 'Pneumonia',\n",
    "    'SEPTICEMIA': 'Septicemia',\n",
    "    'SUBITA': 'Sudden Death',\n",
    "    'COVID_AVC': 'Covid (Stroke)',\n",
    "    'COVID_INFARTO': 'Covid (Hearth Attack)'\n",
    "}\n",
    "\n",
    "skin_color = {\n",
    "    'Amarela': 'East asian',\n",
    "    'Branca': 'White',\n",
    "    'Ignorada': 'Ignored', \n",
    "    'Indigena': 'Indigenous', \n",
    "    'Parda': 'Mixed', \n",
    "    'Preta': 'Black'\n",
    "}\n",
    "\n",
    "def translate(dictionary, term):\n",
    "    if term in dictionary:\n",
    "        return dictionary[term]\n",
    "    else:\n",
    "        return term.capitalize()"
   ]
  },
  {
   "cell_type": "code",
   "execution_count": null,
   "metadata": {},
   "outputs": [],
   "source": [
    "df['cause'] = df['cause'].apply(lambda x: translate(cause, x))"
   ]
  },
  {
   "cell_type": "code",
   "execution_count": null,
   "metadata": {},
   "outputs": [],
   "source": [
    "df['color'] = df['color'].apply(lambda x: translate(skin_color, x))"
   ]
  },
  {
   "cell_type": "code",
   "execution_count": null,
   "metadata": {},
   "outputs": [],
   "source": [
    "df.to_csv('death_cause_brazil.csv', index=False)"
   ]
  }
 ],
 "metadata": {
  "kernelspec": {
   "display_name": "Python 3",
   "language": "python",
   "name": "python3"
  },
  "language_info": {
   "codemirror_mode": {
    "name": "ipython",
    "version": 3
   },
   "file_extension": ".py",
   "mimetype": "text/x-python",
   "name": "python",
   "nbconvert_exporter": "python",
   "pygments_lexer": "ipython3",
   "version": "3.7.6"
  },
  "toc": {
   "base_numbering": 1,
   "nav_menu": {},
   "number_sections": false,
   "sideBar": true,
   "skip_h1_title": false,
   "title_cell": "Table of Contents",
   "title_sidebar": "Contents",
   "toc_cell": false,
   "toc_position": {},
   "toc_section_display": true,
   "toc_window_display": true
  }
 },
 "nbformat": 4,
 "nbformat_minor": 4
}
